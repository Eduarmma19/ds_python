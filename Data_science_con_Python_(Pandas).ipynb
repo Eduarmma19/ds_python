{
  "nbformat": 4,
  "nbformat_minor": 0,
  "metadata": {
    "colab": {
      "name": "Data science con Python (Pandas)",
      "provenance": [],
      "mount_file_id": "1EojoaB_BxgO5m3wsK62aZkmlzhJCso60",
      "authorship_tag": "ABX9TyNj0RCzt4Gae2ZY9V7DJRlZ",
      "include_colab_link": true
    },
    "kernelspec": {
      "name": "python3",
      "display_name": "Python 3"
    }
  },
  "cells": [
    {
      "cell_type": "markdown",
      "metadata": {
        "id": "view-in-github",
        "colab_type": "text"
      },
      "source": [
        "<a href=\"https://colab.research.google.com/github/Eduarmma19/ds_python/blob/main/Data_science_con_Python_(Pandas).ipynb\" target=\"_parent\"><img src=\"https://colab.research.google.com/assets/colab-badge.svg\" alt=\"Open In Colab\"/></a>"
      ]
    },
    {
      "cell_type": "markdown",
      "metadata": {
        "id": "oAIT9sIp69JE"
      },
      "source": [
        "# Pandas \r\n",
        "Pandas es una librería que nos permitirá manejar nuestros datos de una forma sencilla antes de ser usadas en nuestros posteriores análisis \r\n",
        "\r\n"
      ]
    },
    {
      "cell_type": "markdown",
      "metadata": {
        "id": "Cd7I4r5b8AQh"
      },
      "source": [
        "En pandas encontramos 2 objetos los dataframes y las series.\r\n",
        "\r\n",
        "## ¿Que es un dataFrame ?\r\n",
        "Un DataFrame es una tabla donde  cada fila corresponde a un registro y las columnas a caracteristicas de ese registro. "
      ]
    },
    {
      "cell_type": "code",
      "metadata": {
        "id": "qOJ963Ih62ny"
      },
      "source": [
        "#  Importar la librería pandas \r\n",
        "import pandas as pd"
      ],
      "execution_count": 1,
      "outputs": []
    },
    {
      "cell_type": "code",
      "metadata": {
        "colab": {
          "base_uri": "https://localhost:8080/",
          "height": 111
        },
        "id": "-9YYexAJ8ot7",
        "outputId": "e16e0fd4-3c1c-452a-e9ff-f3f1c324b15b"
      },
      "source": [
        "# Data frame sencillo\r\n",
        "pd.DataFrame({\"Si\":[10,20],\"No\":[500,100]})"
      ],
      "execution_count": 4,
      "outputs": [
        {
          "output_type": "execute_result",
          "data": {
            "text/html": [
              "<div>\n",
              "<style scoped>\n",
              "    .dataframe tbody tr th:only-of-type {\n",
              "        vertical-align: middle;\n",
              "    }\n",
              "\n",
              "    .dataframe tbody tr th {\n",
              "        vertical-align: top;\n",
              "    }\n",
              "\n",
              "    .dataframe thead th {\n",
              "        text-align: right;\n",
              "    }\n",
              "</style>\n",
              "<table border=\"1\" class=\"dataframe\">\n",
              "  <thead>\n",
              "    <tr style=\"text-align: right;\">\n",
              "      <th></th>\n",
              "      <th>Si</th>\n",
              "      <th>No</th>\n",
              "    </tr>\n",
              "  </thead>\n",
              "  <tbody>\n",
              "    <tr>\n",
              "      <th>0</th>\n",
              "      <td>10</td>\n",
              "      <td>500</td>\n",
              "    </tr>\n",
              "    <tr>\n",
              "      <th>1</th>\n",
              "      <td>20</td>\n",
              "      <td>100</td>\n",
              "    </tr>\n",
              "  </tbody>\n",
              "</table>\n",
              "</div>"
            ],
            "text/plain": [
              "   Si   No\n",
              "0  10  500\n",
              "1  20  100"
            ]
          },
          "metadata": {
            "tags": []
          },
          "execution_count": 4
        }
      ]
    },
    {
      "cell_type": "markdown",
      "metadata": {
        "id": "Zu_Yc4g59Ypn"
      },
      "source": [
        "En el inicio de cada fila vemos un 0 y 1 corresponden a el nombre de ese registro por defecto, pero podemos asignarles un nombre concreto como por ejemplo, si hablamos de una producto cada uno se identifica por su nombre y para eso usamos la expresión **Index**"
      ]
    },
    {
      "cell_type": "code",
      "metadata": {
        "colab": {
          "base_uri": "https://localhost:8080/",
          "height": 142
        },
        "id": "e2z6YvTB93rs",
        "outputId": "e1a55fbd-2b9a-4da0-e7bf-c091e2310b42"
      },
      "source": [
        "#Vamos a hablar de 2 productos de una bodega \r\n",
        "pd.DataFrame({\"Precio\":[200,400,500],\"Color\":[\"Azul\",\"Verde\",\"Amarillo\"]},index=[\"Diadema x\", \"Diadema z\",\"Diadema k\"])"
      ],
      "execution_count": 6,
      "outputs": [
        {
          "output_type": "execute_result",
          "data": {
            "text/html": [
              "<div>\n",
              "<style scoped>\n",
              "    .dataframe tbody tr th:only-of-type {\n",
              "        vertical-align: middle;\n",
              "    }\n",
              "\n",
              "    .dataframe tbody tr th {\n",
              "        vertical-align: top;\n",
              "    }\n",
              "\n",
              "    .dataframe thead th {\n",
              "        text-align: right;\n",
              "    }\n",
              "</style>\n",
              "<table border=\"1\" class=\"dataframe\">\n",
              "  <thead>\n",
              "    <tr style=\"text-align: right;\">\n",
              "      <th></th>\n",
              "      <th>Precio</th>\n",
              "      <th>Color</th>\n",
              "    </tr>\n",
              "  </thead>\n",
              "  <tbody>\n",
              "    <tr>\n",
              "      <th>Diadema x</th>\n",
              "      <td>200</td>\n",
              "      <td>Azul</td>\n",
              "    </tr>\n",
              "    <tr>\n",
              "      <th>Diadema z</th>\n",
              "      <td>400</td>\n",
              "      <td>Verde</td>\n",
              "    </tr>\n",
              "    <tr>\n",
              "      <th>Diadema k</th>\n",
              "      <td>500</td>\n",
              "      <td>Amarillo</td>\n",
              "    </tr>\n",
              "  </tbody>\n",
              "</table>\n",
              "</div>"
            ],
            "text/plain": [
              "           Precio     Color\n",
              "Diadema x     200      Azul\n",
              "Diadema z     400     Verde\n",
              "Diadema k     500  Amarillo"
            ]
          },
          "metadata": {
            "tags": []
          },
          "execution_count": 6
        }
      ]
    },
    {
      "cell_type": "markdown",
      "metadata": {
        "id": "ynq0Ns7x_JTr"
      },
      "source": [
        "Ahora por otro lado tenemos las series\r\n",
        "## ¿Que es una serie en python?\r\n",
        "Mientras que un DataFrame es una tabla , una serie es una lista de valores, por ejemplo"
      ]
    },
    {
      "cell_type": "code",
      "metadata": {
        "colab": {
          "base_uri": "https://localhost:8080/"
        },
        "id": "lHKVDmrR_gsH",
        "outputId": "c9c1ce1f-c6ff-4bbd-ba79-1cabac922783"
      },
      "source": [
        "# Crear una serie\r\n",
        "pd.Series([50,100,200])"
      ],
      "execution_count": 7,
      "outputs": [
        {
          "output_type": "execute_result",
          "data": {
            "text/plain": [
              "0     50\n",
              "1    100\n",
              "2    200\n",
              "dtype: int64"
            ]
          },
          "metadata": {
            "tags": []
          },
          "execution_count": 7
        }
      ]
    },
    {
      "cell_type": "markdown",
      "metadata": {
        "id": "eU5WyoilA5Fg"
      },
      "source": [
        "También se podría decir que es una columna de un dataframe, el cual igualmente le podemos asignar un nombre a cada registro. Pero además individualizar las caracteristicas a un solo item, por ejemplo. "
      ]
    },
    {
      "cell_type": "code",
      "metadata": {
        "colab": {
          "base_uri": "https://localhost:8080/"
        },
        "id": "p0aivd3qBvDq",
        "outputId": "b2723d85-6e15-45fb-a3f1-9997bd6cebda"
      },
      "source": [
        "pd.Series([200,100,50],index=[\"Unidades 2019\",\"Unidades 2020\", \"Unidades 2021\"], name=\"Diadema x\")"
      ],
      "execution_count": 9,
      "outputs": [
        {
          "output_type": "execute_result",
          "data": {
            "text/plain": [
              "Unidades 2019    200\n",
              "Unidades 2020    100\n",
              "Unidades 2021     50\n",
              "Name: Diadema x, dtype: int64"
            ]
          },
          "metadata": {
            "tags": []
          },
          "execution_count": 9
        }
      ]
    },
    {
      "cell_type": "markdown",
      "metadata": {
        "id": "T6ZD2rAXCeVF"
      },
      "source": [
        "## Importar archivos \r\n",
        "Pandas nos permite traer archivos locales de la siguiente forma:"
      ]
    },
    {
      "cell_type": "code",
      "metadata": {
        "id": "Mf0J5wKL7lJJ"
      },
      "source": [
        "trump = pd.read_csv(\"/content/drive/MyDrive/trump_insult_tweets_2014_to_2021.csv\")"
      ],
      "execution_count": 10,
      "outputs": []
    },
    {
      "cell_type": "markdown",
      "metadata": {
        "id": "M3fY4qZUC2tg"
      },
      "source": [
        "usando read_csv podemos traer datos en ese formato csv, y solo contando con la ubicación o ruta del archivo que queremos importar como argumento."
      ]
    },
    {
      "cell_type": "code",
      "metadata": {
        "colab": {
          "base_uri": "https://localhost:8080/",
          "height": 204
        },
        "id": "140I3BZHDN5w",
        "outputId": "9a36e8cb-ac04-4c84-f8c3-f0f65a441d47"
      },
      "source": [
        "#Veamos los primeros registros de este data frame\r\n",
        "trump.head()"
      ],
      "execution_count": 11,
      "outputs": [
        {
          "output_type": "execute_result",
          "data": {
            "text/html": [
              "<div>\n",
              "<style scoped>\n",
              "    .dataframe tbody tr th:only-of-type {\n",
              "        vertical-align: middle;\n",
              "    }\n",
              "\n",
              "    .dataframe tbody tr th {\n",
              "        vertical-align: top;\n",
              "    }\n",
              "\n",
              "    .dataframe thead th {\n",
              "        text-align: right;\n",
              "    }\n",
              "</style>\n",
              "<table border=\"1\" class=\"dataframe\">\n",
              "  <thead>\n",
              "    <tr style=\"text-align: right;\">\n",
              "      <th></th>\n",
              "      <th>Unnamed: 0</th>\n",
              "      <th>date</th>\n",
              "      <th>target</th>\n",
              "      <th>insult</th>\n",
              "      <th>tweet</th>\n",
              "    </tr>\n",
              "  </thead>\n",
              "  <tbody>\n",
              "    <tr>\n",
              "      <th>0</th>\n",
              "      <td>1</td>\n",
              "      <td>2014-10-09</td>\n",
              "      <td>thomas-frieden</td>\n",
              "      <td>fool</td>\n",
              "      <td>Can you believe this fool, Dr. Thomas Frieden ...</td>\n",
              "    </tr>\n",
              "    <tr>\n",
              "      <th>1</th>\n",
              "      <td>2</td>\n",
              "      <td>2014-10-09</td>\n",
              "      <td>thomas-frieden</td>\n",
              "      <td>DOPE</td>\n",
              "      <td>Can you believe this fool, Dr. Thomas Frieden ...</td>\n",
              "    </tr>\n",
              "    <tr>\n",
              "      <th>2</th>\n",
              "      <td>3</td>\n",
              "      <td>2015-06-16</td>\n",
              "      <td>politicians</td>\n",
              "      <td>all talk and no action</td>\n",
              "      <td>Big time in U.S. today - MAKE AMERICA GREAT AG...</td>\n",
              "    </tr>\n",
              "    <tr>\n",
              "      <th>3</th>\n",
              "      <td>4</td>\n",
              "      <td>2015-06-24</td>\n",
              "      <td>ben-cardin</td>\n",
              "      <td>It's politicians like Cardin that have destroy...</td>\n",
              "      <td>Politician @SenatorCardin didn't like that I s...</td>\n",
              "    </tr>\n",
              "    <tr>\n",
              "      <th>4</th>\n",
              "      <td>5</td>\n",
              "      <td>2015-06-24</td>\n",
              "      <td>neil-young</td>\n",
              "      <td>total hypocrite</td>\n",
              "      <td>For the nonbeliever, here is a photo of @Neily...</td>\n",
              "    </tr>\n",
              "  </tbody>\n",
              "</table>\n",
              "</div>"
            ],
            "text/plain": [
              "   Unnamed: 0  ...                                              tweet\n",
              "0           1  ...  Can you believe this fool, Dr. Thomas Frieden ...\n",
              "1           2  ...  Can you believe this fool, Dr. Thomas Frieden ...\n",
              "2           3  ...  Big time in U.S. today - MAKE AMERICA GREAT AG...\n",
              "3           4  ...  Politician @SenatorCardin didn't like that I s...\n",
              "4           5  ...  For the nonbeliever, here is a photo of @Neily...\n",
              "\n",
              "[5 rows x 5 columns]"
            ]
          },
          "metadata": {
            "tags": []
          },
          "execution_count": 11
        }
      ]
    },
    {
      "cell_type": "code",
      "metadata": {
        "colab": {
          "base_uri": "https://localhost:8080/"
        },
        "id": "_nVbJY-ND_UF",
        "outputId": "7777811a-8bf2-423d-f763-f0ebad19bd62"
      },
      "source": [
        "#¿Cual es la dimensión del data frame?\r\n",
        "\"\"\"\r\n",
        "El valor de la izquierda es el número de filas o registros mientras que el valor de la derecha es el número de columnas\r\n",
        "\"\"\"\r\n",
        "trump.shape"
      ],
      "execution_count": 12,
      "outputs": [
        {
          "output_type": "execute_result",
          "data": {
            "text/plain": [
              "(10360, 5)"
            ]
          },
          "metadata": {
            "tags": []
          },
          "execution_count": 12
        }
      ]
    }
  ]
}